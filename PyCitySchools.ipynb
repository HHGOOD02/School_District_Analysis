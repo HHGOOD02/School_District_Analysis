{
 "cells": [
  {
   "cell_type": "code",
   "execution_count": 1,
   "id": "3763ff97",
   "metadata": {},
   "outputs": [],
   "source": [
    "#Importing Pandas\n",
    "import pandas as pd"
   ]
  },
  {
   "cell_type": "code",
   "execution_count": 4,
   "id": "0bbc49a4",
   "metadata": {},
   "outputs": [],
   "source": [
    "#storing filepaths for our csv files\n",
    "student_data_filepath = \"Resources/students_complete.csv\"\n",
    "schools_data_filepath = \"Resources/schools_complete.csv\""
   ]
  },
  {
   "cell_type": "code",
   "execution_count": 9,
   "id": "bbdc7073",
   "metadata": {},
   "outputs": [],
   "source": [
    "#Creating dataframes from our CSV files\n",
    "student_data_df = pd.read_csv(student_data_filepath)\n",
    "school_data_df = pd.read_csv(schools_data_filepath)"
   ]
  },
  {
   "cell_type": "code",
   "execution_count": null,
   "id": "edba6bdd",
   "metadata": {},
   "outputs": [],
   "source": []
  }
 ],
 "metadata": {
  "kernelspec": {
   "display_name": "PythonData",
   "language": "python",
   "name": "pythondata"
  },
  "language_info": {
   "codemirror_mode": {
    "name": "ipython",
    "version": 3
   },
   "file_extension": ".py",
   "mimetype": "text/x-python",
   "name": "python",
   "nbconvert_exporter": "python",
   "pygments_lexer": "ipython3",
   "version": "3.9.7"
  }
 },
 "nbformat": 4,
 "nbformat_minor": 5
}
